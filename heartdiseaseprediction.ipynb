{
 "cells": [
  {
   "cell_type": "code",
   "execution_count": 1,
   "id": "a25a0859",
   "metadata": {},
   "outputs": [
    {
     "name": "stdout",
     "output_type": "stream",
     "text": [
      "0.8384146341463414\n"
     ]
    }
   ],
   "source": [
    "#Diabetes Prediction Using Support Vector Machine\n",
    "import pickle\n",
    "import os\n",
    "import sys\n",
    "import pandas as pd\n",
    "from sklearn.metrics import accuracy_score\n",
    "from sklearn.model_selection import train_test_split\n",
    "\n",
    "from sklearn.preprocessing import StandardScaler\n",
    "from sklearn.preprocessing import MinMaxScaler\n",
    "\n",
    "# Machine Learning\n",
    "from sklearn.neighbors import KNeighborsClassifier\n",
    "\n",
    "\n",
    "#For training the model\n",
    "def train():\n",
    "    heart = pd.read_csv(\"Dataset1.csv\")\n",
    "    # we have unknown values '?'\n",
    "    # change unrecognized value '?' into mean value through the column\n",
    "    #min_max = MinMaxScaler()\n",
    "    #columns_to_scale = ['age', 'sex','cp', 'trestbps', 'chol', 'fbs', 'restecg', 'thalach', 'exang', 'oldpeak', 'slope', 'ca', 'thal']\n",
    "    #heart[columns_to_scale ] = min_max.fit_transform(heart[columns_to_scale])\n",
    "    y = heart['target']\n",
    "    X = heart.drop(['target'], axis = 1)\n",
    "    #y.head()\n",
    "    #X.info()\n",
    "    X_train, X_test, Y_train, Y_test = train_test_split(X, y, test_size = 0.32, random_state = 101)\n",
    "    # heart = pd.get_dummies(heart, columns = ['sex', 'cp', 'fbs', 'restecg', 'exang', 'slope', 'ca', 'thal'])\n",
    "\n",
    "\n",
    "\n",
    "\n",
    "    \n",
    "    \n",
    "    from sklearn.svm import SVC\n",
    "    model = SVC(kernel='linear')\n",
    "    svc=model.fit(X_train,Y_train)\n",
    "    \n",
    "    #Save Model As Pickle File\n",
    "    with open('svc.pkl','wb') as m:\n",
    "        pickle.dump(svc,m)\n",
    "    test(X_test,Y_test)\n",
    "\n",
    "#Test accuracy of the model\n",
    "def test(X_test,Y_test):\n",
    "    with open('svc.pkl','rb') as mod:\n",
    "        p=pickle.load(mod)\n",
    "    pre=p.predict(X_test)\n",
    "    print (accuracy_score(Y_test,pre)) #Prints the accuracy of the model\n",
    "\n",
    "\n",
    "def find_data_file(filename):\n",
    "    if getattr(sys, \"frozen\", False):\n",
    "        # The application is frozen.\n",
    "        datadir = os.path.dirname(sys.executable)\n",
    "    else:\n",
    "        # The application is not frozen.\n",
    "        datadir = os.path.dirname(__file__)\n",
    "\n",
    "    return os.path.join(datadir, filename)\n",
    "\n",
    "\n",
    "def check_input(data) ->int :\n",
    "    df=pd.DataFrame(data=data,index=[0])\n",
    "    with open(find_data_file('svc.pkl'),'rb') as model:\n",
    "        p=pickle.load(model)\n",
    "    op=p.predict(df)\n",
    "    return op[0]\n",
    "if __name__=='__main__':\n",
    "    train()    \n",
    "\n",
    "\n",
    "# In[ ]:\n",
    "\n"
   ]
  },
  {
   "cell_type": "code",
   "execution_count": null,
   "id": "5c2f9f88",
   "metadata": {},
   "outputs": [],
   "source": []
  }
 ],
 "metadata": {
  "kernelspec": {
   "display_name": "Python 3 (ipykernel)",
   "language": "python",
   "name": "python3"
  },
  "language_info": {
   "codemirror_mode": {
    "name": "ipython",
    "version": 3
   },
   "file_extension": ".py",
   "mimetype": "text/x-python",
   "name": "python",
   "nbconvert_exporter": "python",
   "pygments_lexer": "ipython3",
   "version": "3.9.7"
  }
 },
 "nbformat": 4,
 "nbformat_minor": 5
}
